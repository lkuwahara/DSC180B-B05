{
 "cells": [
  {
   "cell_type": "code",
   "execution_count": 1,
   "id": "760de9e1",
   "metadata": {},
   "outputs": [],
   "source": [
    "import pandas as pd"
   ]
  },
  {
   "cell_type": "code",
   "execution_count": 2,
   "id": "a53d3d2a",
   "metadata": {},
   "outputs": [],
   "source": [
    "trips = pd.read_csv('data/trips.csv')"
   ]
  },
  {
   "cell_type": "code",
   "execution_count": 3,
   "id": "b6f0d5f0",
   "metadata": {},
   "outputs": [
    {
     "data": {
      "text/html": [
       "<div>\n",
       "<style scoped>\n",
       "    .dataframe tbody tr th:only-of-type {\n",
       "        vertical-align: middle;\n",
       "    }\n",
       "\n",
       "    .dataframe tbody tr th {\n",
       "        vertical-align: top;\n",
       "    }\n",
       "\n",
       "    .dataframe thead th {\n",
       "        text-align: right;\n",
       "    }\n",
       "</style>\n",
       "<table border=\"1\" class=\"dataframe\">\n",
       "  <thead>\n",
       "    <tr style=\"text-align: right;\">\n",
       "      <th></th>\n",
       "      <th>activityid</th>\n",
       "      <th>personid</th>\n",
       "      <th>modechoice</th>\n",
       "    </tr>\n",
       "  </thead>\n",
       "  <tbody>\n",
       "    <tr>\n",
       "      <th>0</th>\n",
       "      <td>1</td>\n",
       "      <td>3</td>\n",
       "      <td>WALK</td>\n",
       "    </tr>\n",
       "    <tr>\n",
       "      <th>1</th>\n",
       "      <td>2</td>\n",
       "      <td>3</td>\n",
       "      <td>WALK</td>\n",
       "    </tr>\n",
       "    <tr>\n",
       "      <th>2</th>\n",
       "      <td>3</td>\n",
       "      <td>3</td>\n",
       "      <td>WALK</td>\n",
       "    </tr>\n",
       "    <tr>\n",
       "      <th>3</th>\n",
       "      <td>4</td>\n",
       "      <td>3</td>\n",
       "      <td>WALK</td>\n",
       "    </tr>\n",
       "    <tr>\n",
       "      <th>4</th>\n",
       "      <td>5</td>\n",
       "      <td>3</td>\n",
       "      <td>WALK</td>\n",
       "    </tr>\n",
       "    <tr>\n",
       "      <th>...</th>\n",
       "      <td>...</td>\n",
       "      <td>...</td>\n",
       "      <td>...</td>\n",
       "    </tr>\n",
       "    <tr>\n",
       "      <th>14047024</th>\n",
       "      <td>17147588</td>\n",
       "      <td>4113994</td>\n",
       "      <td>DRIVE_ALONE_FREE</td>\n",
       "    </tr>\n",
       "    <tr>\n",
       "      <th>14047025</th>\n",
       "      <td>17147589</td>\n",
       "      <td>4113994</td>\n",
       "      <td>DRIVE_ALONE_FREE</td>\n",
       "    </tr>\n",
       "    <tr>\n",
       "      <th>14047026</th>\n",
       "      <td>17147590</td>\n",
       "      <td>4113994</td>\n",
       "      <td>DRIVE_ALONE_FREE</td>\n",
       "    </tr>\n",
       "    <tr>\n",
       "      <th>14047027</th>\n",
       "      <td>17147592</td>\n",
       "      <td>4113995</td>\n",
       "      <td>SHARED_3_HOV</td>\n",
       "    </tr>\n",
       "    <tr>\n",
       "      <th>14047028</th>\n",
       "      <td>17147593</td>\n",
       "      <td>4113995</td>\n",
       "      <td>DRIVE_ALONE_FREE</td>\n",
       "    </tr>\n",
       "  </tbody>\n",
       "</table>\n",
       "<p>14047029 rows × 3 columns</p>\n",
       "</div>"
      ],
      "text/plain": [
       "          activityid  personid        modechoice\n",
       "0                  1         3              WALK\n",
       "1                  2         3              WALK\n",
       "2                  3         3              WALK\n",
       "3                  4         3              WALK\n",
       "4                  5         3              WALK\n",
       "...              ...       ...               ...\n",
       "14047024    17147588   4113994  DRIVE_ALONE_FREE\n",
       "14047025    17147589   4113994  DRIVE_ALONE_FREE\n",
       "14047026    17147590   4113994  DRIVE_ALONE_FREE\n",
       "14047027    17147592   4113995      SHARED_3_HOV\n",
       "14047028    17147593   4113995  DRIVE_ALONE_FREE\n",
       "\n",
       "[14047029 rows x 3 columns]"
      ]
     },
     "execution_count": 3,
     "metadata": {},
     "output_type": "execute_result"
    }
   ],
   "source": [
    "trips"
   ]
  },
  {
   "cell_type": "code",
   "execution_count": 4,
   "id": "4cf44198",
   "metadata": {},
   "outputs": [
    {
     "data": {
      "text/plain": [
       "DRIVE_ALONE_FREE    6156506\n",
       "SHARED_2_HOV        3507285\n",
       "SHARED_3_HOV        2814408\n",
       "WALK                1022834\n",
       "WALK_SET             214366\n",
       "SCH_BUS              194123\n",
       "BIKE                  69645\n",
       "SHARED_3_PAY          17088\n",
       "SHARED_2_PAY          15450\n",
       "KNR_SET               13633\n",
       "PNR_SET               11926\n",
       "DRIVE_ALONE_PAY        9765\n",
       "Name: modechoice, dtype: int64"
      ]
     },
     "execution_count": 4,
     "metadata": {},
     "output_type": "execute_result"
    }
   ],
   "source": [
    "trips['modechoice'].value_counts()"
   ]
  },
  {
   "cell_type": "code",
   "execution_count": 5,
   "id": "5e1170ee",
   "metadata": {},
   "outputs": [],
   "source": [
    "utilityvars = pd.read_csv('data/utilityvars.csv')"
   ]
  },
  {
   "cell_type": "code",
   "execution_count": 6,
   "id": "9bf2a5b9",
   "metadata": {},
   "outputs": [
    {
     "data": {
      "text/html": [
       "<div>\n",
       "<style scoped>\n",
       "    .dataframe tbody tr th:only-of-type {\n",
       "        vertical-align: middle;\n",
       "    }\n",
       "\n",
       "    .dataframe tbody tr th {\n",
       "        vertical-align: top;\n",
       "    }\n",
       "\n",
       "    .dataframe thead th {\n",
       "        text-align: right;\n",
       "    }\n",
       "</style>\n",
       "<table border=\"1\" class=\"dataframe\">\n",
       "  <thead>\n",
       "    <tr style=\"text-align: right;\">\n",
       "      <th></th>\n",
       "      <th>activityid</th>\n",
       "      <th>age</th>\n",
       "      <th>gender</th>\n",
       "      <th>autosuf</th>\n",
       "      <th>numhouseholdpersons</th>\n",
       "      <th>income</th>\n",
       "      <th>oduden</th>\n",
       "      <th>oempden</th>\n",
       "      <th>ototint</th>\n",
       "      <th>dempden</th>\n",
       "      <th>...</th>\n",
       "      <th>parkingwalktime</th>\n",
       "      <th>sovcost</th>\n",
       "      <th>hovcost</th>\n",
       "      <th>tollcost</th>\n",
       "      <th>tourpurpose</th>\n",
       "      <th>tourmode</th>\n",
       "      <th>firststop</th>\n",
       "      <th>laststop</th>\n",
       "      <th>zerototalstops</th>\n",
       "      <th>targettripmode</th>\n",
       "    </tr>\n",
       "  </thead>\n",
       "  <tbody>\n",
       "    <tr>\n",
       "      <th>0</th>\n",
       "      <td>12150818</td>\n",
       "      <td>4</td>\n",
       "      <td>True</td>\n",
       "      <td>2</td>\n",
       "      <td>2</td>\n",
       "      <td>4</td>\n",
       "      <td>9.633200</td>\n",
       "      <td>11.594058</td>\n",
       "      <td>4.0</td>\n",
       "      <td>67.659134</td>\n",
       "      <td>...</td>\n",
       "      <td>0.0</td>\n",
       "      <td>46.447229</td>\n",
       "      <td>46.447229</td>\n",
       "      <td>46.447229</td>\n",
       "      <td>0</td>\n",
       "      <td>5</td>\n",
       "      <td>True</td>\n",
       "      <td>False</td>\n",
       "      <td>False</td>\n",
       "      <td>1</td>\n",
       "    </tr>\n",
       "    <tr>\n",
       "      <th>1</th>\n",
       "      <td>3018709</td>\n",
       "      <td>6</td>\n",
       "      <td>False</td>\n",
       "      <td>2</td>\n",
       "      <td>2</td>\n",
       "      <td>1</td>\n",
       "      <td>8.304700</td>\n",
       "      <td>70.117912</td>\n",
       "      <td>12.0</td>\n",
       "      <td>32.273338</td>\n",
       "      <td>...</td>\n",
       "      <td>0.0</td>\n",
       "      <td>495.225231</td>\n",
       "      <td>495.225231</td>\n",
       "      <td>495.225231</td>\n",
       "      <td>0</td>\n",
       "      <td>1</td>\n",
       "      <td>False</td>\n",
       "      <td>False</td>\n",
       "      <td>False</td>\n",
       "      <td>1</td>\n",
       "    </tr>\n",
       "    <tr>\n",
       "      <th>2</th>\n",
       "      <td>8809200</td>\n",
       "      <td>6</td>\n",
       "      <td>False</td>\n",
       "      <td>2</td>\n",
       "      <td>6</td>\n",
       "      <td>3</td>\n",
       "      <td>10.189500</td>\n",
       "      <td>47.538746</td>\n",
       "      <td>3.0</td>\n",
       "      <td>13.567157</td>\n",
       "      <td>...</td>\n",
       "      <td>0.0</td>\n",
       "      <td>462.137117</td>\n",
       "      <td>462.137117</td>\n",
       "      <td>462.137117</td>\n",
       "      <td>0</td>\n",
       "      <td>1</td>\n",
       "      <td>False</td>\n",
       "      <td>False</td>\n",
       "      <td>True</td>\n",
       "      <td>1</td>\n",
       "    </tr>\n",
       "    <tr>\n",
       "      <th>3</th>\n",
       "      <td>11332534</td>\n",
       "      <td>4</td>\n",
       "      <td>False</td>\n",
       "      <td>2</td>\n",
       "      <td>1</td>\n",
       "      <td>2</td>\n",
       "      <td>13.393200</td>\n",
       "      <td>21.983759</td>\n",
       "      <td>4.0</td>\n",
       "      <td>51.544109</td>\n",
       "      <td>...</td>\n",
       "      <td>0.0</td>\n",
       "      <td>342.291418</td>\n",
       "      <td>342.291418</td>\n",
       "      <td>342.291418</td>\n",
       "      <td>0</td>\n",
       "      <td>1</td>\n",
       "      <td>False</td>\n",
       "      <td>False</td>\n",
       "      <td>False</td>\n",
       "      <td>1</td>\n",
       "    </tr>\n",
       "    <tr>\n",
       "      <th>4</th>\n",
       "      <td>6130767</td>\n",
       "      <td>6</td>\n",
       "      <td>False</td>\n",
       "      <td>2</td>\n",
       "      <td>3</td>\n",
       "      <td>2</td>\n",
       "      <td>13.274000</td>\n",
       "      <td>6.568953</td>\n",
       "      <td>3.0</td>\n",
       "      <td>8.480003</td>\n",
       "      <td>...</td>\n",
       "      <td>0.0</td>\n",
       "      <td>310.186071</td>\n",
       "      <td>310.186071</td>\n",
       "      <td>310.186071</td>\n",
       "      <td>0</td>\n",
       "      <td>1</td>\n",
       "      <td>False</td>\n",
       "      <td>False</td>\n",
       "      <td>False</td>\n",
       "      <td>1</td>\n",
       "    </tr>\n",
       "    <tr>\n",
       "      <th>...</th>\n",
       "      <td>...</td>\n",
       "      <td>...</td>\n",
       "      <td>...</td>\n",
       "      <td>...</td>\n",
       "      <td>...</td>\n",
       "      <td>...</td>\n",
       "      <td>...</td>\n",
       "      <td>...</td>\n",
       "      <td>...</td>\n",
       "      <td>...</td>\n",
       "      <td>...</td>\n",
       "      <td>...</td>\n",
       "      <td>...</td>\n",
       "      <td>...</td>\n",
       "      <td>...</td>\n",
       "      <td>...</td>\n",
       "      <td>...</td>\n",
       "      <td>...</td>\n",
       "      <td>...</td>\n",
       "      <td>...</td>\n",
       "      <td>...</td>\n",
       "    </tr>\n",
       "    <tr>\n",
       "      <th>14047024</th>\n",
       "      <td>10138525</td>\n",
       "      <td>2</td>\n",
       "      <td>True</td>\n",
       "      <td>2</td>\n",
       "      <td>4</td>\n",
       "      <td>2</td>\n",
       "      <td>35.460899</td>\n",
       "      <td>286.328949</td>\n",
       "      <td>14.0</td>\n",
       "      <td>12.385718</td>\n",
       "      <td>...</td>\n",
       "      <td>0.0</td>\n",
       "      <td>842.672156</td>\n",
       "      <td>842.672156</td>\n",
       "      <td>842.672156</td>\n",
       "      <td>5</td>\n",
       "      <td>5</td>\n",
       "      <td>False</td>\n",
       "      <td>False</td>\n",
       "      <td>False</td>\n",
       "      <td>5</td>\n",
       "    </tr>\n",
       "    <tr>\n",
       "      <th>14047025</th>\n",
       "      <td>16270294</td>\n",
       "      <td>7</td>\n",
       "      <td>False</td>\n",
       "      <td>2</td>\n",
       "      <td>4</td>\n",
       "      <td>3</td>\n",
       "      <td>17.207199</td>\n",
       "      <td>19.868286</td>\n",
       "      <td>13.0</td>\n",
       "      <td>1.423494</td>\n",
       "      <td>...</td>\n",
       "      <td>0.0</td>\n",
       "      <td>13.350623</td>\n",
       "      <td>13.350623</td>\n",
       "      <td>13.350623</td>\n",
       "      <td>5</td>\n",
       "      <td>3</td>\n",
       "      <td>False</td>\n",
       "      <td>False</td>\n",
       "      <td>False</td>\n",
       "      <td>3</td>\n",
       "    </tr>\n",
       "    <tr>\n",
       "      <th>14047026</th>\n",
       "      <td>16270295</td>\n",
       "      <td>7</td>\n",
       "      <td>False</td>\n",
       "      <td>2</td>\n",
       "      <td>4</td>\n",
       "      <td>3</td>\n",
       "      <td>16.574200</td>\n",
       "      <td>1.423494</td>\n",
       "      <td>13.0</td>\n",
       "      <td>88.151642</td>\n",
       "      <td>...</td>\n",
       "      <td>0.0</td>\n",
       "      <td>137.377041</td>\n",
       "      <td>137.377041</td>\n",
       "      <td>137.377041</td>\n",
       "      <td>5</td>\n",
       "      <td>3</td>\n",
       "      <td>False</td>\n",
       "      <td>False</td>\n",
       "      <td>False</td>\n",
       "      <td>3</td>\n",
       "    </tr>\n",
       "    <tr>\n",
       "      <th>14047027</th>\n",
       "      <td>10138526</td>\n",
       "      <td>2</td>\n",
       "      <td>True</td>\n",
       "      <td>2</td>\n",
       "      <td>4</td>\n",
       "      <td>2</td>\n",
       "      <td>22.916100</td>\n",
       "      <td>12.385718</td>\n",
       "      <td>14.0</td>\n",
       "      <td>8.472905</td>\n",
       "      <td>...</td>\n",
       "      <td>0.0</td>\n",
       "      <td>5.447711</td>\n",
       "      <td>5.447711</td>\n",
       "      <td>5.447711</td>\n",
       "      <td>5</td>\n",
       "      <td>5</td>\n",
       "      <td>False</td>\n",
       "      <td>False</td>\n",
       "      <td>False</td>\n",
       "      <td>3</td>\n",
       "    </tr>\n",
       "    <tr>\n",
       "      <th>14047028</th>\n",
       "      <td>10138527</td>\n",
       "      <td>2</td>\n",
       "      <td>True</td>\n",
       "      <td>2</td>\n",
       "      <td>4</td>\n",
       "      <td>2</td>\n",
       "      <td>23.146999</td>\n",
       "      <td>8.472905</td>\n",
       "      <td>14.0</td>\n",
       "      <td>950.602234</td>\n",
       "      <td>...</td>\n",
       "      <td>0.0</td>\n",
       "      <td>286.207691</td>\n",
       "      <td>286.207691</td>\n",
       "      <td>286.207691</td>\n",
       "      <td>5</td>\n",
       "      <td>5</td>\n",
       "      <td>False</td>\n",
       "      <td>True</td>\n",
       "      <td>False</td>\n",
       "      <td>5</td>\n",
       "    </tr>\n",
       "  </tbody>\n",
       "</table>\n",
       "<p>14047029 rows × 30 columns</p>\n",
       "</div>"
      ],
      "text/plain": [
       "          activityid  age  gender  autosuf  numhouseholdpersons  income  \\\n",
       "0           12150818    4    True        2                    2       4   \n",
       "1            3018709    6   False        2                    2       1   \n",
       "2            8809200    6   False        2                    6       3   \n",
       "3           11332534    4   False        2                    1       2   \n",
       "4            6130767    6   False        2                    3       2   \n",
       "...              ...  ...     ...      ...                  ...     ...   \n",
       "14047024    10138525    2    True        2                    4       2   \n",
       "14047025    16270294    7   False        2                    4       3   \n",
       "14047026    16270295    7   False        2                    4       3   \n",
       "14047027    10138526    2    True        2                    4       2   \n",
       "14047028    10138527    2    True        2                    4       2   \n",
       "\n",
       "             oduden     oempden  ototint     dempden  ...  parkingwalktime  \\\n",
       "0          9.633200   11.594058      4.0   67.659134  ...              0.0   \n",
       "1          8.304700   70.117912     12.0   32.273338  ...              0.0   \n",
       "2         10.189500   47.538746      3.0   13.567157  ...              0.0   \n",
       "3         13.393200   21.983759      4.0   51.544109  ...              0.0   \n",
       "4         13.274000    6.568953      3.0    8.480003  ...              0.0   \n",
       "...             ...         ...      ...         ...  ...              ...   \n",
       "14047024  35.460899  286.328949     14.0   12.385718  ...              0.0   \n",
       "14047025  17.207199   19.868286     13.0    1.423494  ...              0.0   \n",
       "14047026  16.574200    1.423494     13.0   88.151642  ...              0.0   \n",
       "14047027  22.916100   12.385718     14.0    8.472905  ...              0.0   \n",
       "14047028  23.146999    8.472905     14.0  950.602234  ...              0.0   \n",
       "\n",
       "             sovcost     hovcost    tollcost  tourpurpose  tourmode  \\\n",
       "0          46.447229   46.447229   46.447229            0         5   \n",
       "1         495.225231  495.225231  495.225231            0         1   \n",
       "2         462.137117  462.137117  462.137117            0         1   \n",
       "3         342.291418  342.291418  342.291418            0         1   \n",
       "4         310.186071  310.186071  310.186071            0         1   \n",
       "...              ...         ...         ...          ...       ...   \n",
       "14047024  842.672156  842.672156  842.672156            5         5   \n",
       "14047025   13.350623   13.350623   13.350623            5         3   \n",
       "14047026  137.377041  137.377041  137.377041            5         3   \n",
       "14047027    5.447711    5.447711    5.447711            5         5   \n",
       "14047028  286.207691  286.207691  286.207691            5         5   \n",
       "\n",
       "          firststop  laststop  zerototalstops  targettripmode  \n",
       "0              True     False           False               1  \n",
       "1             False     False           False               1  \n",
       "2             False     False            True               1  \n",
       "3             False     False           False               1  \n",
       "4             False     False           False               1  \n",
       "...             ...       ...             ...             ...  \n",
       "14047024      False     False           False               5  \n",
       "14047025      False     False           False               3  \n",
       "14047026      False     False           False               3  \n",
       "14047027      False     False           False               3  \n",
       "14047028      False      True           False               5  \n",
       "\n",
       "[14047029 rows x 30 columns]"
      ]
     },
     "execution_count": 6,
     "metadata": {},
     "output_type": "execute_result"
    }
   ],
   "source": [
    "utilityvars"
   ]
  },
  {
   "cell_type": "code",
   "execution_count": 7,
   "id": "908a8fcb",
   "metadata": {},
   "outputs": [
    {
     "data": {
      "text/plain": [
       "activityid               0\n",
       "age                      0\n",
       "gender                   0\n",
       "autosuf                  0\n",
       "numhouseholdpersons      0\n",
       "income                   0\n",
       "oduden                   0\n",
       "oempden                  0\n",
       "ototint                  0\n",
       "dempden                  0\n",
       "sovdrivetime             0\n",
       "hovdrivetime             0\n",
       "tolldrivetime            0\n",
       "tollcostsov              0\n",
       "tollcosthov2             0\n",
       "tollcosthov3             0\n",
       "walkttime                0\n",
       "walktotransitutility     0\n",
       "drivetotransitutility    0\n",
       "parkingcost              0\n",
       "parkingwalktime          0\n",
       "sovcost                  0\n",
       "hovcost                  0\n",
       "tollcost                 0\n",
       "tourpurpose              0\n",
       "tourmode                 0\n",
       "firststop                0\n",
       "laststop                 0\n",
       "zerototalstops           0\n",
       "targettripmode           0\n",
       "dtype: int64"
      ]
     },
     "execution_count": 7,
     "metadata": {},
     "output_type": "execute_result"
    }
   ],
   "source": [
    "utilityvars.isnull().sum()"
   ]
  },
  {
   "cell_type": "code",
   "execution_count": 8,
   "id": "9a1c9135",
   "metadata": {},
   "outputs": [
    {
     "data": {
      "text/plain": [
       "<AxesSubplot:ylabel='Frequency'>"
      ]
     },
     "execution_count": 8,
     "metadata": {},
     "output_type": "execute_result"
    },
    {
     "data": {
      "image/png": "[encoded data removed]",
      "text/plain": [
       "<Figure size 432x288 with 1 Axes>"
      ]
     },
     "metadata": {
      "needs_background": "light"
     },
     "output_type": "display_data"
    }
   ],
   "source": [
    "utilityvars['walkttime'].plot.hist(bins=10, alpha=0.5)"
   ]
  },
  {
   "cell_type": "code",
   "execution_count": null,
   "id": "7870ff08",
   "metadata": {},
   "outputs": [],
   "source": []
  },
  {
   "cell_type": "code",
   "execution_count": 9,
   "id": "7c079792",
   "metadata": {},
   "outputs": [
    {
     "data": {
      "text/plain": [
       "<AxesSubplot:ylabel='Frequency'>"
      ]
     },
     "execution_count": 9,
     "metadata": {},
     "output_type": "execute_result"
    },
    {
     "data": {
      "image/png": "[encoded data removed]",
      "text/plain": [
       "<Figure size 432x288 with 1 Axes>"
      ]
     },
     "metadata": {
      "needs_background": "light"
     },
     "output_type": "display_data"
    }
   ],
   "source": [
    "utilityvars['age'].plot.hist(bins=7, alpha=0.5)"
   ]
  },
  {
   "cell_type": "code",
   "execution_count": 10,
   "id": "f64a4177",
   "metadata": {},
   "outputs": [
    {
     "data": {
      "text/plain": [
       "7    3754099\n",
       "4    3165495\n",
       "6    2818493\n",
       "3    1743774\n",
       "1     994808\n",
       "0     955376\n",
       "2     614984\n",
       "Name: age, dtype: int64"
      ]
     },
     "execution_count": 10,
     "metadata": {},
     "output_type": "execute_result"
    }
   ],
   "source": [
    "utilityvars['age'].value_counts()\n",
    "# we see that most people are aged 56+, followed by the age group between 25-55\n",
    "# so we have little representation of the younger age group"
   ]
  },
  {
   "cell_type": "code",
   "execution_count": 11,
   "id": "5e10eab9",
   "metadata": {},
   "outputs": [],
   "source": [
    "# activityid can be removed because it just identifies each person, not relevant for our prediction"
   ]
  },
  {
   "cell_type": "code",
   "execution_count": 12,
   "id": "ac29e32e",
   "metadata": {},
   "outputs": [
    {
     "data": {
      "text/plain": [
       "True     7630493\n",
       "False    6416536\n",
       "Name: gender, dtype: int64"
      ]
     },
     "execution_count": 12,
     "metadata": {},
     "output_type": "execute_result"
    }
   ],
   "source": [
    "utilityvars['gender'].value_counts()\n",
    "# we have around 1.2 million more females than males "
   ]
  },
  {
   "cell_type": "code",
   "execution_count": 13,
   "id": "656f5257",
   "metadata": {},
   "outputs": [
    {
     "data": {
      "text/plain": [
       "1    7330371\n",
       "2    6556605\n",
       "0     160053\n",
       "Name: autosuf, dtype: int64"
      ]
     },
     "execution_count": 13,
     "metadata": {},
     "output_type": "execute_result"
    }
   ],
   "source": [
    "utilityvars['autosuf'].value_counts()\n",
    "# most common is unsufficient vehicle count, following sufficient count, and little households that don't have vehicle"
   ]
  },
  {
   "cell_type": "code",
   "execution_count": 45,
   "id": "b45be04a",
   "metadata": {},
   "outputs": [],
   "source": [
    "#utilityvars['autosuf'].plot.hist(bins=3, alpha=0.5)"
   ]
  },
  {
   "cell_type": "code",
   "execution_count": 14,
   "id": "8a0cb360",
   "metadata": {},
   "outputs": [
    {
     "data": {
      "text/plain": [
       "3    3182876\n",
       "2    3170265\n",
       "1    2701888\n",
       "5    2643779\n",
       "4    2348221\n",
       "Name: income, dtype: int64"
      ]
     },
     "execution_count": 14,
     "metadata": {},
     "output_type": "execute_result"
    }
   ],
   "source": [
    "utilityvars['income'].value_counts()\n",
    "# distribution of income seems relatively like normal distribution\n",
    "# 3 is the average of $60-100k"
   ]
  },
  {
   "cell_type": "code",
   "execution_count": 48,
   "id": "4bcae61a",
   "metadata": {},
   "outputs": [
    {
     "data": {
      "text/plain": [
       "<AxesSubplot:ylabel='Frequency'>"
      ]
     },
     "execution_count": 48,
     "metadata": {},
     "output_type": "execute_result"
    },
    {
     "data": {
      "image/png": "[encoded data removed]",
      "text/plain": [
       "<Figure size 432x288 with 1 Axes>"
      ]
     },
     "metadata": {
      "needs_background": "light"
     },
     "output_type": "display_data"
    }
   ],
   "source": [
    "utilityvars['income'].plot.hist(bins=5, alpha=0.5)"
   ]
  },
  {
   "cell_type": "code",
   "execution_count": 15,
   "id": "90c0d4f6",
   "metadata": {},
   "outputs": [
    {
     "data": {
      "text/plain": [
       "0    3594540\n",
       "5    3489898\n",
       "4    2832591\n",
       "2    1650401\n",
       "3    1570662\n",
       "7     425017\n",
       "1     302898\n",
       "6     181022\n",
       "Name: tourpurpose, dtype: int64"
      ]
     },
     "execution_count": 15,
     "metadata": {},
     "output_type": "execute_result"
    }
   ],
   "source": [
    "utilityvars['tourpurpose'].value_counts()\n",
    "# work, escort, discretionary are most common purposes of the tour\n",
    "# university and work-based is the least common"
   ]
  },
  {
   "cell_type": "code",
   "execution_count": 49,
   "id": "1c93bd6d",
   "metadata": {},
   "outputs": [
    {
     "data": {
      "text/plain": [
       "<AxesSubplot:ylabel='Frequency'>"
      ]
     },
     "execution_count": 49,
     "metadata": {},
     "output_type": "execute_result"
    },
    {
     "data": {
      "image/png": "[encoded data removed]",
      "text/plain": [
       "<Figure size 432x288 with 1 Axes>"
      ]
     },
     "metadata": {
      "needs_background": "light"
     },
     "output_type": "display_data"
    }
   ],
   "source": [
    "utilityvars['tourpurpose'].plot.hist(bins=7, alpha=0.5)"
   ]
  },
  {
   "cell_type": "code",
   "execution_count": 16,
   "id": "f24fd3ab",
   "metadata": {},
   "outputs": [
    {
     "data": {
      "text/plain": [
       "1     4999579\n",
       "3     3891056\n",
       "5     3759115\n",
       "7      842413\n",
       "9      235085\n",
       "12     137256\n",
       "8      107159\n",
       "11      57661\n",
       "10      17705\n",
       "Name: tourmode, dtype: int64"
      ]
     },
     "execution_count": 16,
     "metadata": {},
     "output_type": "execute_result"
    }
   ],
   "source": [
    "utilityvars['tourmode'].value_counts()\n",
    "# driving is the most common tour modes, with park and ride and kiss and ride are least common"
   ]
  },
  {
   "cell_type": "code",
   "execution_count": 54,
   "id": "564afa3c",
   "metadata": {},
   "outputs": [
    {
     "data": {
      "text/plain": [
       "<AxesSubplot:ylabel='Frequency'>"
      ]
     },
     "execution_count": 54,
     "metadata": {},
     "output_type": "execute_result"
    },
    {
     "data": {
      "image/png": "[encoded data removed]",
      "text/plain": [
       "<Figure size 432x288 with 1 Axes>"
      ]
     },
     "metadata": {
      "needs_background": "light"
     },
     "output_type": "display_data"
    }
   ],
   "source": [
    "utilityvars['tourmode'].plot.hist(bins=12, alpha=0.5)"
   ]
  },
  {
   "cell_type": "code",
   "execution_count": 17,
   "id": "64f3578d",
   "metadata": {},
   "outputs": [
    {
     "data": {
      "text/plain": [
       "1     6155225\n",
       "3     3523141\n",
       "5     2831163\n",
       "7     1003774\n",
       "9      213502\n",
       "12     137256\n",
       "8      107159\n",
       "11      24315\n",
       "2       20494\n",
       "6       11328\n",
       "10      10074\n",
       "4        9598\n",
       "Name: targettripmode, dtype: int64"
      ]
     },
     "execution_count": 17,
     "metadata": {},
     "output_type": "execute_result"
    }
   ],
   "source": [
    "utilityvars['targettripmode'].value_counts()"
   ]
  },
  {
   "cell_type": "code",
   "execution_count": 56,
   "id": "7e32b130",
   "metadata": {},
   "outputs": [
    {
     "data": {
      "text/plain": [
       "<AxesSubplot:ylabel='Frequency'>"
      ]
     },
     "execution_count": 56,
     "metadata": {},
     "output_type": "execute_result"
    },
    {
     "data": {
      "image/png": "[encoded data removed]",
      "text/plain": [
       "<Figure size 432x288 with 1 Axes>"
      ]
     },
     "metadata": {
      "needs_background": "light"
     },
     "output_type": "display_data"
    }
   ],
   "source": [
    "utilityvars['targettripmode'].plot.hist(bins=12, alpha=0.5)"
   ]
  },
  {
   "cell_type": "code",
   "execution_count": 18,
   "id": "11384fce",
   "metadata": {},
   "outputs": [
    {
     "data": {
      "text/html": [
       "<div>\n",
       "<style scoped>\n",
       "    .dataframe tbody tr th:only-of-type {\n",
       "        vertical-align: middle;\n",
       "    }\n",
       "\n",
       "    .dataframe tbody tr th {\n",
       "        vertical-align: top;\n",
       "    }\n",
       "\n",
       "    .dataframe thead th {\n",
       "        text-align: right;\n",
       "    }\n",
       "</style>\n",
       "<table border=\"1\" class=\"dataframe\">\n",
       "  <thead>\n",
       "    <tr style=\"text-align: right;\">\n",
       "      <th></th>\n",
       "      <th>activityid</th>\n",
       "      <th>age</th>\n",
       "      <th>gender</th>\n",
       "      <th>autosuf</th>\n",
       "      <th>numhouseholdpersons</th>\n",
       "      <th>income</th>\n",
       "      <th>oduden</th>\n",
       "      <th>oempden</th>\n",
       "      <th>ototint</th>\n",
       "      <th>dempden</th>\n",
       "      <th>...</th>\n",
       "      <th>parkingwalktime</th>\n",
       "      <th>sovcost</th>\n",
       "      <th>hovcost</th>\n",
       "      <th>tollcost</th>\n",
       "      <th>tourpurpose</th>\n",
       "      <th>tourmode</th>\n",
       "      <th>firststop</th>\n",
       "      <th>laststop</th>\n",
       "      <th>zerototalstops</th>\n",
       "      <th>targettripmode</th>\n",
       "    </tr>\n",
       "  </thead>\n",
       "  <tbody>\n",
       "    <tr>\n",
       "      <th>5765990</th>\n",
       "      <td>1669163</td>\n",
       "      <td>7</td>\n",
       "      <td>False</td>\n",
       "      <td>2</td>\n",
       "      <td>2</td>\n",
       "      <td>3</td>\n",
       "      <td>4.953200</td>\n",
       "      <td>4.424497</td>\n",
       "      <td>8.0</td>\n",
       "      <td>34.916939</td>\n",
       "      <td>...</td>\n",
       "      <td>0.0</td>\n",
       "      <td>124.246268</td>\n",
       "      <td>124.246268</td>\n",
       "      <td>124.246268</td>\n",
       "      <td>5</td>\n",
       "      <td>3</td>\n",
       "      <td>False</td>\n",
       "      <td>False</td>\n",
       "      <td>False</td>\n",
       "      <td>3</td>\n",
       "    </tr>\n",
       "    <tr>\n",
       "      <th>10197295</th>\n",
       "      <td>3975311</td>\n",
       "      <td>3</td>\n",
       "      <td>False</td>\n",
       "      <td>2</td>\n",
       "      <td>5</td>\n",
       "      <td>4</td>\n",
       "      <td>19.268801</td>\n",
       "      <td>117.837265</td>\n",
       "      <td>13.0</td>\n",
       "      <td>319.509674</td>\n",
       "      <td>...</td>\n",
       "      <td>0.0</td>\n",
       "      <td>921.638728</td>\n",
       "      <td>921.805627</td>\n",
       "      <td>921.638728</td>\n",
       "      <td>0</td>\n",
       "      <td>1</td>\n",
       "      <td>False</td>\n",
       "      <td>False</td>\n",
       "      <td>False</td>\n",
       "      <td>1</td>\n",
       "    </tr>\n",
       "    <tr>\n",
       "      <th>714</th>\n",
       "      <td>6111824</td>\n",
       "      <td>3</td>\n",
       "      <td>False</td>\n",
       "      <td>1</td>\n",
       "      <td>2</td>\n",
       "      <td>2</td>\n",
       "      <td>11.703000</td>\n",
       "      <td>24.352190</td>\n",
       "      <td>3.0</td>\n",
       "      <td>34.791630</td>\n",
       "      <td>...</td>\n",
       "      <td>0.0</td>\n",
       "      <td>80.999723</td>\n",
       "      <td>80.999723</td>\n",
       "      <td>80.999723</td>\n",
       "      <td>2</td>\n",
       "      <td>1</td>\n",
       "      <td>False</td>\n",
       "      <td>False</td>\n",
       "      <td>True</td>\n",
       "      <td>1</td>\n",
       "    </tr>\n",
       "    <tr>\n",
       "      <th>3921242</th>\n",
       "      <td>16977736</td>\n",
       "      <td>7</td>\n",
       "      <td>True</td>\n",
       "      <td>1</td>\n",
       "      <td>2</td>\n",
       "      <td>5</td>\n",
       "      <td>5.558900</td>\n",
       "      <td>10.919112</td>\n",
       "      <td>12.0</td>\n",
       "      <td>10.224158</td>\n",
       "      <td>...</td>\n",
       "      <td>0.0</td>\n",
       "      <td>65.668333</td>\n",
       "      <td>65.668333</td>\n",
       "      <td>65.668333</td>\n",
       "      <td>7</td>\n",
       "      <td>7</td>\n",
       "      <td>True</td>\n",
       "      <td>False</td>\n",
       "      <td>False</td>\n",
       "      <td>1</td>\n",
       "    </tr>\n",
       "    <tr>\n",
       "      <th>1679428</th>\n",
       "      <td>16473962</td>\n",
       "      <td>3</td>\n",
       "      <td>False</td>\n",
       "      <td>2</td>\n",
       "      <td>1</td>\n",
       "      <td>1</td>\n",
       "      <td>1.160300</td>\n",
       "      <td>141.827942</td>\n",
       "      <td>17.0</td>\n",
       "      <td>61.009068</td>\n",
       "      <td>...</td>\n",
       "      <td>0.0</td>\n",
       "      <td>27.187656</td>\n",
       "      <td>27.187656</td>\n",
       "      <td>27.187656</td>\n",
       "      <td>1</td>\n",
       "      <td>1</td>\n",
       "      <td>True</td>\n",
       "      <td>False</td>\n",
       "      <td>False</td>\n",
       "      <td>1</td>\n",
       "    </tr>\n",
       "    <tr>\n",
       "      <th>...</th>\n",
       "      <td>...</td>\n",
       "      <td>...</td>\n",
       "      <td>...</td>\n",
       "      <td>...</td>\n",
       "      <td>...</td>\n",
       "      <td>...</td>\n",
       "      <td>...</td>\n",
       "      <td>...</td>\n",
       "      <td>...</td>\n",
       "      <td>...</td>\n",
       "      <td>...</td>\n",
       "      <td>...</td>\n",
       "      <td>...</td>\n",
       "      <td>...</td>\n",
       "      <td>...</td>\n",
       "      <td>...</td>\n",
       "      <td>...</td>\n",
       "      <td>...</td>\n",
       "      <td>...</td>\n",
       "      <td>...</td>\n",
       "      <td>...</td>\n",
       "    </tr>\n",
       "    <tr>\n",
       "      <th>9300289</th>\n",
       "      <td>13627002</td>\n",
       "      <td>4</td>\n",
       "      <td>False</td>\n",
       "      <td>2</td>\n",
       "      <td>2</td>\n",
       "      <td>5</td>\n",
       "      <td>2.066800</td>\n",
       "      <td>27.348284</td>\n",
       "      <td>10.0</td>\n",
       "      <td>3.799550</td>\n",
       "      <td>...</td>\n",
       "      <td>0.0</td>\n",
       "      <td>253.746636</td>\n",
       "      <td>253.746636</td>\n",
       "      <td>253.746636</td>\n",
       "      <td>0</td>\n",
       "      <td>1</td>\n",
       "      <td>False</td>\n",
       "      <td>False</td>\n",
       "      <td>False</td>\n",
       "      <td>1</td>\n",
       "    </tr>\n",
       "    <tr>\n",
       "      <th>12879983</th>\n",
       "      <td>7131104</td>\n",
       "      <td>7</td>\n",
       "      <td>True</td>\n",
       "      <td>2</td>\n",
       "      <td>1</td>\n",
       "      <td>3</td>\n",
       "      <td>2.100100</td>\n",
       "      <td>7.162939</td>\n",
       "      <td>2.0</td>\n",
       "      <td>16.391285</td>\n",
       "      <td>...</td>\n",
       "      <td>0.0</td>\n",
       "      <td>299.233020</td>\n",
       "      <td>299.389806</td>\n",
       "      <td>299.233020</td>\n",
       "      <td>0</td>\n",
       "      <td>1</td>\n",
       "      <td>False</td>\n",
       "      <td>False</td>\n",
       "      <td>False</td>\n",
       "      <td>1</td>\n",
       "    </tr>\n",
       "    <tr>\n",
       "      <th>6920109</th>\n",
       "      <td>4248838</td>\n",
       "      <td>7</td>\n",
       "      <td>False</td>\n",
       "      <td>1</td>\n",
       "      <td>2</td>\n",
       "      <td>4</td>\n",
       "      <td>3.274100</td>\n",
       "      <td>10.970346</td>\n",
       "      <td>27.0</td>\n",
       "      <td>192.898834</td>\n",
       "      <td>...</td>\n",
       "      <td>0.0</td>\n",
       "      <td>343.241054</td>\n",
       "      <td>343.241054</td>\n",
       "      <td>343.241054</td>\n",
       "      <td>0</td>\n",
       "      <td>1</td>\n",
       "      <td>False</td>\n",
       "      <td>False</td>\n",
       "      <td>True</td>\n",
       "      <td>1</td>\n",
       "    </tr>\n",
       "    <tr>\n",
       "      <th>5772311</th>\n",
       "      <td>2205872</td>\n",
       "      <td>3</td>\n",
       "      <td>False</td>\n",
       "      <td>2</td>\n",
       "      <td>4</td>\n",
       "      <td>2</td>\n",
       "      <td>11.616200</td>\n",
       "      <td>25.322632</td>\n",
       "      <td>6.0</td>\n",
       "      <td>507.650848</td>\n",
       "      <td>...</td>\n",
       "      <td>0.0</td>\n",
       "      <td>262.606049</td>\n",
       "      <td>262.606049</td>\n",
       "      <td>262.606049</td>\n",
       "      <td>2</td>\n",
       "      <td>3</td>\n",
       "      <td>False</td>\n",
       "      <td>False</td>\n",
       "      <td>False</td>\n",
       "      <td>3</td>\n",
       "    </tr>\n",
       "    <tr>\n",
       "      <th>1505838</th>\n",
       "      <td>5499809</td>\n",
       "      <td>7</td>\n",
       "      <td>True</td>\n",
       "      <td>2</td>\n",
       "      <td>2</td>\n",
       "      <td>3</td>\n",
       "      <td>7.868700</td>\n",
       "      <td>31.330973</td>\n",
       "      <td>3.0</td>\n",
       "      <td>72.074089</td>\n",
       "      <td>...</td>\n",
       "      <td>0.0</td>\n",
       "      <td>93.344519</td>\n",
       "      <td>93.344519</td>\n",
       "      <td>93.344519</td>\n",
       "      <td>4</td>\n",
       "      <td>3</td>\n",
       "      <td>False</td>\n",
       "      <td>False</td>\n",
       "      <td>False</td>\n",
       "      <td>3</td>\n",
       "    </tr>\n",
       "  </tbody>\n",
       "</table>\n",
       "<p>50000 rows × 30 columns</p>\n",
       "</div>"
      ],
      "text/plain": [
       "          activityid  age  gender  autosuf  numhouseholdpersons  income  \\\n",
       "5765990      1669163    7   False        2                    2       3   \n",
       "10197295     3975311    3   False        2                    5       4   \n",
       "714          6111824    3   False        1                    2       2   \n",
       "3921242     16977736    7    True        1                    2       5   \n",
       "1679428     16473962    3   False        2                    1       1   \n",
       "...              ...  ...     ...      ...                  ...     ...   \n",
       "9300289     13627002    4   False        2                    2       5   \n",
       "12879983     7131104    7    True        2                    1       3   \n",
       "6920109      4248838    7   False        1                    2       4   \n",
       "5772311      2205872    3   False        2                    4       2   \n",
       "1505838      5499809    7    True        2                    2       3   \n",
       "\n",
       "             oduden     oempden  ototint     dempden  ...  parkingwalktime  \\\n",
       "5765990    4.953200    4.424497      8.0   34.916939  ...              0.0   \n",
       "10197295  19.268801  117.837265     13.0  319.509674  ...              0.0   \n",
       "714       11.703000   24.352190      3.0   34.791630  ...              0.0   \n",
       "3921242    5.558900   10.919112     12.0   10.224158  ...              0.0   \n",
       "1679428    1.160300  141.827942     17.0   61.009068  ...              0.0   \n",
       "...             ...         ...      ...         ...  ...              ...   \n",
       "9300289    2.066800   27.348284     10.0    3.799550  ...              0.0   \n",
       "12879983   2.100100    7.162939      2.0   16.391285  ...              0.0   \n",
       "6920109    3.274100   10.970346     27.0  192.898834  ...              0.0   \n",
       "5772311   11.616200   25.322632      6.0  507.650848  ...              0.0   \n",
       "1505838    7.868700   31.330973      3.0   72.074089  ...              0.0   \n",
       "\n",
       "             sovcost     hovcost    tollcost  tourpurpose  tourmode  \\\n",
       "5765990   124.246268  124.246268  124.246268            5         3   \n",
       "10197295  921.638728  921.805627  921.638728            0         1   \n",
       "714        80.999723   80.999723   80.999723            2         1   \n",
       "3921242    65.668333   65.668333   65.668333            7         7   \n",
       "1679428    27.187656   27.187656   27.187656            1         1   \n",
       "...              ...         ...         ...          ...       ...   \n",
       "9300289   253.746636  253.746636  253.746636            0         1   \n",
       "12879983  299.233020  299.389806  299.233020            0         1   \n",
       "6920109   343.241054  343.241054  343.241054            0         1   \n",
       "5772311   262.606049  262.606049  262.606049            2         3   \n",
       "1505838    93.344519   93.344519   93.344519            4         3   \n",
       "\n",
       "          firststop  laststop  zerototalstops  targettripmode  \n",
       "5765990       False     False           False               3  \n",
       "10197295      False     False           False               1  \n",
       "714           False     False            True               1  \n",
       "3921242        True     False           False               1  \n",
       "1679428        True     False           False               1  \n",
       "...             ...       ...             ...             ...  \n",
       "9300289       False     False           False               1  \n",
       "12879983      False     False           False               1  \n",
       "6920109       False     False            True               1  \n",
       "5772311       False     False           False               3  \n",
       "1505838       False     False           False               3  \n",
       "\n",
       "[50000 rows x 30 columns]"
      ]
     },
     "execution_count": 18,
     "metadata": {},
     "output_type": "execute_result"
    }
   ],
   "source": [
    "# use weights on tourmode, which will weight more on walk time - \n",
    "# could show how much more inconvenient it is to walk/not\n",
    "utilityvars.sample(n=50000, weights='walkttime', random_state=1)"
   ]
  },
  {
   "cell_type": "code",
   "execution_count": 19,
   "id": "94966774",
   "metadata": {},
   "outputs": [],
   "source": [
    "mode1 = utilityvars[utilityvars['targettripmode']==1].sample(n=1000, weights='walkttime', random_state=1)"
   ]
  },
  {
   "cell_type": "code",
   "execution_count": 20,
   "id": "81cb51df",
   "metadata": {},
   "outputs": [],
   "source": [
    "mode2 = utilityvars[utilityvars['targettripmode']==2].sample(n=1000, weights='walkttime', random_state=1)"
   ]
  },
  {
   "cell_type": "code",
   "execution_count": 21,
   "id": "dd5c9aa1",
   "metadata": {},
   "outputs": [],
   "source": [
    "mode3 = utilityvars[utilityvars['targettripmode']==3].sample(n=1000, weights='walkttime', random_state=1)\n",
    "mode4 = utilityvars[utilityvars['targettripmode']==4].sample(n=1000, weights='walkttime', random_state=1)\n",
    "mode5 = utilityvars[utilityvars['targettripmode']==5].sample(n=1000, weights='walkttime', random_state=1)\n",
    "mode6 = utilityvars[utilityvars['targettripmode']==6].sample(n=1000, weights='walkttime', random_state=1)\n",
    "mode7 = utilityvars[utilityvars['targettripmode']==7].sample(n=1000, weights='walkttime', random_state=1)\n",
    "mode8 = utilityvars[utilityvars['targettripmode']==8].sample(n=1000, weights='walkttime', random_state=1)\n",
    "mode9 = utilityvars[utilityvars['targettripmode']==9].sample(n=1000, weights='walkttime', random_state=1)\n",
    "mode10 = utilityvars[utilityvars['targettripmode']==10].sample(n=1000, weights='walkttime', random_state=1)\n",
    "mode11 = utilityvars[utilityvars['targettripmode']==11].sample(n=1000, weights='walkttime', random_state=1)\n",
    "mode12 = utilityvars[utilityvars['targettripmode']==12].sample(n=1000, weights='walkttime', random_state=1)"
   ]
  },
  {
   "cell_type": "code",
   "execution_count": 37,
   "id": "bdf2fe82",
   "metadata": {},
   "outputs": [],
   "source": [
    "# changing subsamples to remove weight and adjust random state\n",
    "mode1 = utilityvars[utilityvars['targettripmode']==1].sample(n=1000, random_state=42)\n",
    "mode2 = utilityvars[utilityvars['targettripmode']==2].sample(n=1000, random_state=42)\n",
    "mode3 = utilityvars[utilityvars['targettripmode']==3].sample(n=1000, random_state=42)\n",
    "mode4 = utilityvars[utilityvars['targettripmode']==4].sample(n=1000, random_state=42)\n",
    "mode5 = utilityvars[utilityvars['targettripmode']==5].sample(n=1000, random_state=42)\n",
    "mode6 = utilityvars[utilityvars['targettripmode']==6].sample(n=1000, random_state=42)\n",
    "mode7 = utilityvars[utilityvars['targettripmode']==7].sample(n=1000, random_state=42)\n",
    "mode8 = utilityvars[utilityvars['targettripmode']==8].sample(n=1000, random_state=42)\n",
    "mode9 = utilityvars[utilityvars['targettripmode']==9].sample(n=1000, random_state=42)\n",
    "mode10 = utilityvars[utilityvars['targettripmode']==10].sample(n=1000, random_state=42)\n",
    "mode11 = utilityvars[utilityvars['targettripmode']==11].sample(n=1000, random_state=42)\n",
    "mode12 = utilityvars[utilityvars['targettripmode']==12].sample(n=1000, random_state=42)"
   ]
  },
  {
   "cell_type": "code",
   "execution_count": 38,
   "id": "211fac45",
   "metadata": {},
   "outputs": [],
   "source": [
    "combined_subsamples = pd.concat([mode1,mode2,mode3,mode4,mode5,mode6,mode7,mode8,mode9,mode10,mode11,mode12], axis=0)"
   ]
  },
  {
   "cell_type": "code",
   "execution_count": 39,
   "id": "0fe56125",
   "metadata": {},
   "outputs": [
    {
     "data": {
      "text/html": [
       "<div>\n",
       "<style scoped>\n",
       "    .dataframe tbody tr th:only-of-type {\n",
       "        vertical-align: middle;\n",
       "    }\n",
       "\n",
       "    .dataframe tbody tr th {\n",
       "        vertical-align: top;\n",
       "    }\n",
       "\n",
       "    .dataframe thead th {\n",
       "        text-align: right;\n",
       "    }\n",
       "</style>\n",
       "<table border=\"1\" class=\"dataframe\">\n",
       "  <thead>\n",
       "    <tr style=\"text-align: right;\">\n",
       "      <th></th>\n",
       "      <th>activityid</th>\n",
       "      <th>age</th>\n",
       "      <th>gender</th>\n",
       "      <th>autosuf</th>\n",
       "      <th>numhouseholdpersons</th>\n",
       "      <th>income</th>\n",
       "      <th>oduden</th>\n",
       "      <th>oempden</th>\n",
       "      <th>ototint</th>\n",
       "      <th>dempden</th>\n",
       "      <th>...</th>\n",
       "      <th>parkingwalktime</th>\n",
       "      <th>sovcost</th>\n",
       "      <th>hovcost</th>\n",
       "      <th>tollcost</th>\n",
       "      <th>tourpurpose</th>\n",
       "      <th>tourmode</th>\n",
       "      <th>firststop</th>\n",
       "      <th>laststop</th>\n",
       "      <th>zerototalstops</th>\n",
       "      <th>targettripmode</th>\n",
       "    </tr>\n",
       "  </thead>\n",
       "  <tbody>\n",
       "    <tr>\n",
       "      <th>13679295</th>\n",
       "      <td>10671627</td>\n",
       "      <td>6</td>\n",
       "      <td>False</td>\n",
       "      <td>1</td>\n",
       "      <td>6</td>\n",
       "      <td>2</td>\n",
       "      <td>3.1199</td>\n",
       "      <td>41.955578</td>\n",
       "      <td>11.0</td>\n",
       "      <td>36.499100</td>\n",
       "      <td>...</td>\n",
       "      <td>0.0</td>\n",
       "      <td>43.143125</td>\n",
       "      <td>43.143125</td>\n",
       "      <td>43.143125</td>\n",
       "      <td>6</td>\n",
       "      <td>1</td>\n",
       "      <td>False</td>\n",
       "      <td>False</td>\n",
       "      <td>False</td>\n",
       "      <td>1</td>\n",
       "    </tr>\n",
       "    <tr>\n",
       "      <th>6483604</th>\n",
       "      <td>9191852</td>\n",
       "      <td>3</td>\n",
       "      <td>False</td>\n",
       "      <td>2</td>\n",
       "      <td>8</td>\n",
       "      <td>2</td>\n",
       "      <td>3.0683</td>\n",
       "      <td>49.342838</td>\n",
       "      <td>21.0</td>\n",
       "      <td>28.919132</td>\n",
       "      <td>...</td>\n",
       "      <td>0.0</td>\n",
       "      <td>378.453974</td>\n",
       "      <td>378.453974</td>\n",
       "      <td>378.453974</td>\n",
       "      <td>0</td>\n",
       "      <td>1</td>\n",
       "      <td>False</td>\n",
       "      <td>False</td>\n",
       "      <td>True</td>\n",
       "      <td>1</td>\n",
       "    </tr>\n",
       "    <tr>\n",
       "      <th>11620444</th>\n",
       "      <td>2057248</td>\n",
       "      <td>7</td>\n",
       "      <td>False</td>\n",
       "      <td>1</td>\n",
       "      <td>2</td>\n",
       "      <td>3</td>\n",
       "      <td>9.3584</td>\n",
       "      <td>118.646187</td>\n",
       "      <td>6.0</td>\n",
       "      <td>96.452827</td>\n",
       "      <td>...</td>\n",
       "      <td>0.0</td>\n",
       "      <td>8.138877</td>\n",
       "      <td>8.138877</td>\n",
       "      <td>8.138877</td>\n",
       "      <td>5</td>\n",
       "      <td>1</td>\n",
       "      <td>True</td>\n",
       "      <td>False</td>\n",
       "      <td>False</td>\n",
       "      <td>1</td>\n",
       "    </tr>\n",
       "    <tr>\n",
       "      <th>5904902</th>\n",
       "      <td>9662722</td>\n",
       "      <td>6</td>\n",
       "      <td>True</td>\n",
       "      <td>2</td>\n",
       "      <td>5</td>\n",
       "      <td>1</td>\n",
       "      <td>1.8433</td>\n",
       "      <td>30.338408</td>\n",
       "      <td>25.0</td>\n",
       "      <td>16.809288</td>\n",
       "      <td>...</td>\n",
       "      <td>0.0</td>\n",
       "      <td>13.497393</td>\n",
       "      <td>13.497393</td>\n",
       "      <td>13.497393</td>\n",
       "      <td>4</td>\n",
       "      <td>3</td>\n",
       "      <td>False</td>\n",
       "      <td>False</td>\n",
       "      <td>True</td>\n",
       "      <td>1</td>\n",
       "    </tr>\n",
       "    <tr>\n",
       "      <th>5740018</th>\n",
       "      <td>9933494</td>\n",
       "      <td>7</td>\n",
       "      <td>True</td>\n",
       "      <td>2</td>\n",
       "      <td>2</td>\n",
       "      <td>2</td>\n",
       "      <td>0.4375</td>\n",
       "      <td>5.188427</td>\n",
       "      <td>26.0</td>\n",
       "      <td>12.316857</td>\n",
       "      <td>...</td>\n",
       "      <td>0.0</td>\n",
       "      <td>132.980300</td>\n",
       "      <td>132.980300</td>\n",
       "      <td>132.980300</td>\n",
       "      <td>5</td>\n",
       "      <td>1</td>\n",
       "      <td>False</td>\n",
       "      <td>False</td>\n",
       "      <td>True</td>\n",
       "      <td>1</td>\n",
       "    </tr>\n",
       "    <tr>\n",
       "      <th>...</th>\n",
       "      <td>...</td>\n",
       "      <td>...</td>\n",
       "      <td>...</td>\n",
       "      <td>...</td>\n",
       "      <td>...</td>\n",
       "      <td>...</td>\n",
       "      <td>...</td>\n",
       "      <td>...</td>\n",
       "      <td>...</td>\n",
       "      <td>...</td>\n",
       "      <td>...</td>\n",
       "      <td>...</td>\n",
       "      <td>...</td>\n",
       "      <td>...</td>\n",
       "      <td>...</td>\n",
       "      <td>...</td>\n",
       "      <td>...</td>\n",
       "      <td>...</td>\n",
       "      <td>...</td>\n",
       "      <td>...</td>\n",
       "      <td>...</td>\n",
       "    </tr>\n",
       "    <tr>\n",
       "      <th>1599292</th>\n",
       "      <td>106350</td>\n",
       "      <td>3</td>\n",
       "      <td>False</td>\n",
       "      <td>1</td>\n",
       "      <td>4</td>\n",
       "      <td>4</td>\n",
       "      <td>6.2712</td>\n",
       "      <td>15.245072</td>\n",
       "      <td>8.0</td>\n",
       "      <td>67.676628</td>\n",
       "      <td>...</td>\n",
       "      <td>0.0</td>\n",
       "      <td>84.434974</td>\n",
       "      <td>84.434974</td>\n",
       "      <td>84.434974</td>\n",
       "      <td>2</td>\n",
       "      <td>12</td>\n",
       "      <td>False</td>\n",
       "      <td>False</td>\n",
       "      <td>True</td>\n",
       "      <td>12</td>\n",
       "    </tr>\n",
       "    <tr>\n",
       "      <th>2172240</th>\n",
       "      <td>9460655</td>\n",
       "      <td>3</td>\n",
       "      <td>True</td>\n",
       "      <td>1</td>\n",
       "      <td>4</td>\n",
       "      <td>1</td>\n",
       "      <td>10.3262</td>\n",
       "      <td>44.302193</td>\n",
       "      <td>12.0</td>\n",
       "      <td>20.997007</td>\n",
       "      <td>...</td>\n",
       "      <td>0.0</td>\n",
       "      <td>163.927262</td>\n",
       "      <td>163.927262</td>\n",
       "      <td>183.938831</td>\n",
       "      <td>2</td>\n",
       "      <td>12</td>\n",
       "      <td>False</td>\n",
       "      <td>False</td>\n",
       "      <td>True</td>\n",
       "      <td>12</td>\n",
       "    </tr>\n",
       "    <tr>\n",
       "      <th>2010650</th>\n",
       "      <td>7550683</td>\n",
       "      <td>1</td>\n",
       "      <td>True</td>\n",
       "      <td>1</td>\n",
       "      <td>8</td>\n",
       "      <td>3</td>\n",
       "      <td>7.5839</td>\n",
       "      <td>15.740391</td>\n",
       "      <td>1.0</td>\n",
       "      <td>24.217110</td>\n",
       "      <td>...</td>\n",
       "      <td>0.0</td>\n",
       "      <td>10.671094</td>\n",
       "      <td>10.671094</td>\n",
       "      <td>10.671094</td>\n",
       "      <td>2</td>\n",
       "      <td>12</td>\n",
       "      <td>False</td>\n",
       "      <td>False</td>\n",
       "      <td>True</td>\n",
       "      <td>12</td>\n",
       "    </tr>\n",
       "    <tr>\n",
       "      <th>2012974</th>\n",
       "      <td>5781304</td>\n",
       "      <td>2</td>\n",
       "      <td>True</td>\n",
       "      <td>0</td>\n",
       "      <td>4</td>\n",
       "      <td>2</td>\n",
       "      <td>10.6652</td>\n",
       "      <td>69.321037</td>\n",
       "      <td>3.0</td>\n",
       "      <td>35.252476</td>\n",
       "      <td>...</td>\n",
       "      <td>0.0</td>\n",
       "      <td>103.257445</td>\n",
       "      <td>103.257445</td>\n",
       "      <td>103.257445</td>\n",
       "      <td>2</td>\n",
       "      <td>12</td>\n",
       "      <td>False</td>\n",
       "      <td>False</td>\n",
       "      <td>True</td>\n",
       "      <td>12</td>\n",
       "    </tr>\n",
       "    <tr>\n",
       "      <th>1737215</th>\n",
       "      <td>5533741</td>\n",
       "      <td>1</td>\n",
       "      <td>True</td>\n",
       "      <td>1</td>\n",
       "      <td>6</td>\n",
       "      <td>2</td>\n",
       "      <td>4.2236</td>\n",
       "      <td>20.858931</td>\n",
       "      <td>1.0</td>\n",
       "      <td>46.511749</td>\n",
       "      <td>...</td>\n",
       "      <td>0.0</td>\n",
       "      <td>9.120135</td>\n",
       "      <td>9.120135</td>\n",
       "      <td>9.120135</td>\n",
       "      <td>2</td>\n",
       "      <td>12</td>\n",
       "      <td>False</td>\n",
       "      <td>False</td>\n",
       "      <td>True</td>\n",
       "      <td>12</td>\n",
       "    </tr>\n",
       "  </tbody>\n",
       "</table>\n",
       "<p>12000 rows × 30 columns</p>\n",
       "</div>"
      ],
      "text/plain": [
       "          activityid  age  gender  autosuf  numhouseholdpersons  income  \\\n",
       "13679295    10671627    6   False        1                    6       2   \n",
       "6483604      9191852    3   False        2                    8       2   \n",
       "11620444     2057248    7   False        1                    2       3   \n",
       "5904902      9662722    6    True        2                    5       1   \n",
       "5740018      9933494    7    True        2                    2       2   \n",
       "...              ...  ...     ...      ...                  ...     ...   \n",
       "1599292       106350    3   False        1                    4       4   \n",
       "2172240      9460655    3    True        1                    4       1   \n",
       "2010650      7550683    1    True        1                    8       3   \n",
       "2012974      5781304    2    True        0                    4       2   \n",
       "1737215      5533741    1    True        1                    6       2   \n",
       "\n",
       "           oduden     oempden  ototint    dempden  ...  parkingwalktime  \\\n",
       "13679295   3.1199   41.955578     11.0  36.499100  ...              0.0   \n",
       "6483604    3.0683   49.342838     21.0  28.919132  ...              0.0   \n",
       "11620444   9.3584  118.646187      6.0  96.452827  ...              0.0   \n",
       "5904902    1.8433   30.338408     25.0  16.809288  ...              0.0   \n",
       "5740018    0.4375    5.188427     26.0  12.316857  ...              0.0   \n",
       "...           ...         ...      ...        ...  ...              ...   \n",
       "1599292    6.2712   15.245072      8.0  67.676628  ...              0.0   \n",
       "2172240   10.3262   44.302193     12.0  20.997007  ...              0.0   \n",
       "2010650    7.5839   15.740391      1.0  24.217110  ...              0.0   \n",
       "2012974   10.6652   69.321037      3.0  35.252476  ...              0.0   \n",
       "1737215    4.2236   20.858931      1.0  46.511749  ...              0.0   \n",
       "\n",
       "             sovcost     hovcost    tollcost  tourpurpose  tourmode  \\\n",
       "13679295   43.143125   43.143125   43.143125            6         1   \n",
       "6483604   378.453974  378.453974  378.453974            0         1   \n",
       "11620444    8.138877    8.138877    8.138877            5         1   \n",
       "5904902    13.497393   13.497393   13.497393            4         3   \n",
       "5740018   132.980300  132.980300  132.980300            5         1   \n",
       "...              ...         ...         ...          ...       ...   \n",
       "1599292    84.434974   84.434974   84.434974            2        12   \n",
       "2172240   163.927262  163.927262  183.938831            2        12   \n",
       "2010650    10.671094   10.671094   10.671094            2        12   \n",
       "2012974   103.257445  103.257445  103.257445            2        12   \n",
       "1737215     9.120135    9.120135    9.120135            2        12   \n",
       "\n",
       "          firststop  laststop  zerototalstops  targettripmode  \n",
       "13679295      False     False           False               1  \n",
       "6483604       False     False            True               1  \n",
       "11620444       True     False           False               1  \n",
       "5904902       False     False            True               1  \n",
       "5740018       False     False            True               1  \n",
       "...             ...       ...             ...             ...  \n",
       "1599292       False     False            True              12  \n",
       "2172240       False     False            True              12  \n",
       "2010650       False     False            True              12  \n",
       "2012974       False     False            True              12  \n",
       "1737215       False     False            True              12  \n",
       "\n",
       "[12000 rows x 30 columns]"
      ]
     },
     "execution_count": 39,
     "metadata": {},
     "output_type": "execute_result"
    }
   ],
   "source": [
    "combined_subsamples"
   ]
  },
  {
   "cell_type": "code",
   "execution_count": 15,
   "id": "85887854",
   "metadata": {},
   "outputs": [
    {
     "data": {
      "text/plain": [
       "<AxesSubplot:ylabel='Frequency'>"
      ]
     },
     "execution_count": 15,
     "metadata": {},
     "output_type": "execute_result"
    },
    {
     "data": {
      "image/png": "[encoded data removed]",
      "text/plain": [
       "<Figure size 432x288 with 1 Axes>"
      ]
     },
     "metadata": {
      "needs_background": "light"
     },
     "output_type": "display_data"
    }
   ],
   "source": [
    "mode3['walkttime'].plot.hist(bins=10, alpha=0.5)"
   ]
  },
  {
   "cell_type": "code",
   "execution_count": 16,
   "id": "6176abd1",
   "metadata": {},
   "outputs": [
    {
     "data": {
      "text/plain": [
       "<AxesSubplot:ylabel='Frequency'>"
      ]
     },
     "execution_count": 16,
     "metadata": {},
     "output_type": "execute_result"
    },
    {
     "data": {
      "image/png": "[encoded data removed]",
      "text/plain": [
       "<Figure size 432x288 with 1 Axes>"
      ]
     },
     "metadata": {
      "needs_background": "light"
     },
     "output_type": "display_data"
    }
   ],
   "source": [
    "mode12['walkttime'].plot.hist(bins=10, alpha=0.5)"
   ]
  },
  {
   "cell_type": "code",
   "execution_count": 17,
   "id": "63a80178",
   "metadata": {},
   "outputs": [
    {
     "data": {
      "text/plain": [
       "<AxesSubplot:ylabel='Frequency'>"
      ]
     },
     "execution_count": 17,
     "metadata": {},
     "output_type": "execute_result"
    },
    {
     "data": {
      "image/png": "[encoded data removed]",
      "text/plain": [
       "<Figure size 432x288 with 1 Axes>"
      ]
     },
     "metadata": {
      "needs_background": "light"
     },
     "output_type": "display_data"
    }
   ],
   "source": [
    "mode5['walkttime'].plot.hist(bins=10, alpha=0.5)"
   ]
  },
  {
   "cell_type": "code",
   "execution_count": 25,
   "id": "455c276b",
   "metadata": {},
   "outputs": [
    {
     "data": {
      "text/plain": [
       "0           1\n",
       "1           1\n",
       "2           1\n",
       "3           1\n",
       "4           1\n",
       "           ..\n",
       "14047024    5\n",
       "14047025    3\n",
       "14047026    3\n",
       "14047027    3\n",
       "14047028    5\n",
       "Name: targettripmode, Length: 14047029, dtype: int64"
      ]
     },
     "execution_count": 25,
     "metadata": {},
     "output_type": "execute_result"
    }
   ],
   "source": [
    "utilityvars['targettripmode']"
   ]
  },
  {
   "cell_type": "code",
   "execution_count": 18,
   "id": "cb9bea03",
   "metadata": {},
   "outputs": [],
   "source": [
    "# try sampling 1000 for each travel choice mode \n",
    "# if we sample everyone uniform then we will have equal weights for each trip mode\n",
    "# this is how data can have bias \n",
    "# disadvantage - we don't want to throw away samples during subsample \n",
    "# potential for fitting noise - if we add to much weight to something under represented "
   ]
  },
  {
   "cell_type": "code",
   "execution_count": 19,
   "id": "6db6b8f0",
   "metadata": {},
   "outputs": [],
   "source": [
    "# breakdown between people who take HOV lanes, and people who don't "
   ]
  },
  {
   "cell_type": "code",
   "execution_count": 20,
   "id": "972cb574",
   "metadata": {},
   "outputs": [],
   "source": [
    "# ask about trips.csv and the last column from utility vars \n",
    "# check per person accuracy, is there variety per persion \n",
    "# population by income ex. - is the model equitable? \n",
    "###for income and how it affects travel mode choice - for ppl in low income areas \n",
    "# write a pipeline and research that \n",
    "# build validation pipleine, things to look for"
   ]
  },
  {
   "cell_type": "code",
   "execution_count": null,
   "id": "a5f27d2b",
   "metadata": {},
   "outputs": [],
   "source": []
  }
 ],
 "metadata": {
  "kernelspec": {
   "display_name": "Python 3 (ipykernel)",
   "language": "python",
   "name": "python3"
  },
  "language_info": {
   "codemirror_mode": {
    "name": "ipython",
    "version": 3
   },
   "file_extension": ".py",
   "mimetype": "text/x-python",
   "name": "python",
   "nbconvert_exporter": "python",
   "pygments_lexer": "ipython3",
   "version": "3.9.5"
  }
 },
 "nbformat": 4,
 "nbformat_minor": 5
}
